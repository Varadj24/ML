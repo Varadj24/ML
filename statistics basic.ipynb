{
 "cells": [
  {
   "cell_type": "code",
   "execution_count": 1,
   "id": "cba09790-3437-4b3f-a63d-16becb67e9d8",
   "metadata": {},
   "outputs": [],
   "source": [
    "#Q1. What is Statistics?"
   ]
  },
  {
   "cell_type": "code",
   "execution_count": null,
   "id": "ccdab046-3b1b-48ca-8920-e39f1e3a5d6b",
   "metadata": {},
   "outputs": [],
   "source": [
    "'''\n",
    "Statistics is a branch of mathematics that deals with collecting, analyzing, interpreting, presenting, and organizing data. \n",
    "It provides methods to make inferences or conclusions about a population based on a limited amount of data, which is called a sample.'''"
   ]
  },
  {
   "cell_type": "code",
   "execution_count": 2,
   "id": "c03fd970-1cbc-42f0-8e0b-8feaa2bfe281",
   "metadata": {},
   "outputs": [],
   "source": [
    "#Q2. Define the different types of statistics and give an example of when each type might be used."
   ]
  },
  {
   "cell_type": "code",
   "execution_count": null,
   "id": "520963d3-f47b-4872-a828-fed5cd676a16",
   "metadata": {},
   "outputs": [],
   "source": [
    "'''\n",
    "1.Descriptive Statistics:\n",
    "  Descriptive statistics are used to describe and summarize the main features of a dataset. \n",
    "They provide simple summaries about the sample and the observations that have been made. \n",
    "Descriptive statistics are often the first step in analyzing data.\n",
    "\n",
    "Example: \n",
    "   Imagine a researcher collects the scores of students in a class on a recent math exam. \n",
    "Descriptive statistics would be used to calculate the average (mean) score of the class, \n",
    "the most common score (mode), and the middle score (median). These measures provide a clear picture of how the class performed overall.\n",
    "\n",
    "2.Inferential Statistics:\n",
    "  Inferential statistics are used to make predictions or inferences about a population based on a sample of data taken from that population. \n",
    "These statistics help researchers draw conclusions and make decisions despite having data from only a subset of the entire population.\n",
    "\n",
    "Example: \n",
    "  Let's say a pharmaceutical company develops a new drug to reduce blood pressure.\n",
    "Instead of testing the drug on the entire population, which might be impractical and expensive, \n",
    "they select a sample of patients. After analyzing the results from this sample, \n",
    "inferential statistics can be used to make statements about how effective and safe the drug is for the entire population of patients with high blood pressure. \n",
    "Hypothesis testing and confidence intervals are common inferential statistical methods used in this scenario.'''"
   ]
  },
  {
   "cell_type": "code",
   "execution_count": null,
   "id": "52c33916-a6cf-4926-bd59-8248f344d9ed",
   "metadata": {},
   "outputs": [],
   "source": []
  },
  {
   "cell_type": "code",
   "execution_count": 3,
   "id": "749096ae-0730-480c-bab8-adb67c5f4299",
   "metadata": {},
   "outputs": [],
   "source": [
    "#Q3.  What are the different types of data and how do they differ from each other? Provide an example of each type of data"
   ]
  },
  {
   "cell_type": "code",
   "execution_count": null,
   "id": "1f9f88c6-ffe8-458f-af84-584885667c42",
   "metadata": {},
   "outputs": [],
   "source": [
    "'''\n",
    "1.Nominal Data:\n",
    "  Nominal data represent categories or labels with no inherent order. \n",
    "These categories cannot be ranked or compared quantitatively.\n",
    "\n",
    "Example: \n",
    "  Colors (red, blue, green) or types of fruits (apple, orange, banana). \n",
    "There is no numerical significance in nominal data.\n",
    "\n",
    "2.Ordinal Data:\n",
    "  Ordinal data represent categories with a specific order or ranking. \n",
    "While the differences between the categories are not uniform or meaningful, \n",
    "there is a clear rank order.\n",
    "\n",
    "Example: \n",
    "  Education levels (high school, college, graduate school) or customer satisfaction ratings (poor, fair, good, excellent). \n",
    "The order is meaningful, but the difference between \"poor\" and \"fair\" is not necessarily the same as the difference between \"good\" and \"excellent.\"\n",
    "\n",
    "3.Interval Data:\n",
    "  Interval data have a specific order, and the intervals between values are equal and meaningful. \n",
    "However, there is no true zero point, meaning ratios of values are not meaningful.\n",
    "\n",
    "Example: \n",
    "  Temperature measured in Celsius or Fahrenheit. The difference between 20°C and 30°C is the same as the difference between 30°C and 40°C, \n",
    "but a temperature of 0°C does not mean \"no temperature.\"\n",
    "\n",
    "4.Ratio Data:\n",
    "  Ratio data have a specific order, equal intervals, and a true zero point, indicating the absence of the measured quantity.\n",
    "\n",
    "Example: \n",
    "  Height, weight, age, or income. A height of 0 inches or a weight of 0 pounds indicates a complete absence of height or weight, \n",
    "making ratios (like comparing one person's weight to another) meaningful and valid.'''"
   ]
  },
  {
   "cell_type": "code",
   "execution_count": null,
   "id": "09b6ecea-ca58-4d7b-afd4-89adebc7d390",
   "metadata": {},
   "outputs": [],
   "source": []
  },
  {
   "cell_type": "code",
   "execution_count": 4,
   "id": "320ba99e-75ed-4cf8-ad5a-47b962c20b15",
   "metadata": {},
   "outputs": [],
   "source": [
    "#Q4. Categorise the following datasets with respect to quantitative and qualitative data types:\n",
    "#(i)Grading in exam: A+, A, B+, B, C+, C, D, E\n",
    "#(ii)Colour of mangoes: yellow, green, orange, red\n",
    "#(iii)Height data of a class: [178.9, 179, 179.5, 176, 177.2, 178.3, 175.8,...]\n",
    "#(iv)Number of mangoes exported by a farm: [500, 600, 478, 672, …]"
   ]
  },
  {
   "cell_type": "code",
   "execution_count": null,
   "id": "6b81f3a9-a919-4d2c-acda-236c6e9083ca",
   "metadata": {},
   "outputs": [],
   "source": [
    "'''\n",
    "(i) Grading in exam: Qualitative Data (Ordinal)\n",
    "  The grades (A+, A, B+, B, C+, C, D, E) represent categories with a specific order, \n",
    "but the difference between the grades is not quantitatively meaningful.\n",
    "It's an ordinal qualitative data.\n",
    "\n",
    "(ii) Colour of mangoes: Qualitative Data (Nominal)\n",
    "  The colors (yellow, green, orange, red) represent distinct categories with no inherent \n",
    "order or numerical significance. It's nominal qualitative data.\n",
    "\n",
    "(iii) Height data of a class: Quantitative Data (Ratio)\n",
    "   The heights (178.9, 179, 179.5, 176, 177.2, 178.3, 175.8, ...) are numerical values with \n",
    "a specific order, equal intervals, and a true zero point (height of 0 does indicate absence of height). \n",
    "It's ratio quantitative data.\n",
    "\n",
    "(iv) Number of mangoes exported by a farm: Quantitative Data (Ratio)\n",
    "  The number of mangoes (500, 600, 478, 672, ...) represents numerical values with\n",
    "a specific order, equal intervals, and a true zero point (indicating absence of mangoes). \n",
    "It's ratio quantitative data.'''"
   ]
  },
  {
   "cell_type": "code",
   "execution_count": null,
   "id": "9cbd3fa8-4b7c-49fa-aaa0-d02ddaaad0fa",
   "metadata": {},
   "outputs": [],
   "source": []
  },
  {
   "cell_type": "code",
   "execution_count": 5,
   "id": "950f050c-3c2f-498e-b0e4-16053950bf5e",
   "metadata": {},
   "outputs": [],
   "source": [
    "#Q5. Explain the concept of levels of measurement and give an example of a variable for each level."
   ]
  },
  {
   "cell_type": "code",
   "execution_count": null,
   "id": "9937834f-0986-46e2-9cbd-88edef637182",
   "metadata": {},
   "outputs": [],
   "source": [
    "'''\n",
    "  Levels of measurement, also known as scales of measurement, refer to the different ways in which variables can be categorized and measured. \n",
    "There are four main levels of measurement: nominal, ordinal, interval, and ratio. Each level has specific properties \n",
    "that determine the type of statistical analysis that can be performed on the data.\n",
    "\n",
    "1.Nominal Level:\n",
    "  Nominal variables represent categories or labels with no inherent order or ranking among them.\n",
    "\n",
    "Example: \n",
    "  Eye color (blue, brown, green) - People can be categorized into different eye color groups, but there is no inherent order or ranking among these colors.\n",
    "\n",
    "2.Ordinal Level:\n",
    "  Ordinal variables have a specific order or ranking, but the intervals between values may not be uniform or meaningful.\n",
    "\n",
    "Example: Educational attainment (high school, college, graduate school) - There is a clear order in education levels, but the difference between these levels may not be the same.\n",
    "\n",
    "3.Interval Level:\n",
    "  Interval variables have a specific order, equal intervals between values, but no true zero point.\n",
    "\n",
    "Example: Temperature in Celsius - The difference between 20°C and 30°C is the same as the difference between 30°C and 40°C, but 0°C does not mean absence of temperature; it's an arbitrary point on the scale.\n",
    "\n",
    "4.Ratio Level:\n",
    "Ratio variables have a specific order, equal intervals between values, and a true zero point, indicating absence of the measured quantity.\n",
    "\n",
    "Example: Height in centimeters - A height of 0 cm indicates the absence of height, and ratios of heights (like comparing one person's height to another) are meaningful and valid.'''"
   ]
  },
  {
   "cell_type": "code",
   "execution_count": null,
   "id": "1f701c40-7f31-4fbf-9bee-594d36b263cc",
   "metadata": {},
   "outputs": [],
   "source": []
  },
  {
   "cell_type": "code",
   "execution_count": 1,
   "id": "41a37686-3ae6-4a33-93ec-c26ca477198f",
   "metadata": {},
   "outputs": [],
   "source": [
    "#Q6. Why is it important to understand the level of measurement when analyzing data? Provide an example to illustrate your answer."
   ]
  },
  {
   "cell_type": "code",
   "execution_count": null,
   "id": "4b9d0676-767e-4d4d-a1ed-df76d92ceedc",
   "metadata": {},
   "outputs": [],
   "source": [
    "'''\n",
    "Nominal Level: \n",
    "  Data at this level are categorical and can only be classified or counted. \n",
    "There is no inherent order or ranking among categories. Examples include gender, ethnicity, or types of fruits. \n",
    "You can count the occurrences, but you can't perform mathematical operations on the categories.\n",
    "\n",
    "Ordinal Level: \n",
    "  Data at this level have a specific order or ranking, but the intervals between the values are not uniform. \n",
    "For example, customer satisfaction ratings (1 for very dissatisfied, 2 for dissatisfied, and so on). \n",
    "You know the order (which rating is higher), but you can't say the difference between \n",
    "\"very dissatisfied\" and \"dissatisfied\" is the same as between \"satisfied\" and \"very satisfied.\"\n",
    "\n",
    "Interval Level: \n",
    "   Data at this level have a specific order, and the intervals between values are uniform. \n",
    "However, there is no true zero point. An example is temperature measured in Celsius or Fahrenheit. \n",
    "You can say the difference between 20°C and 30°C is the same as between 30°C and 40°C, but you can't say there is a complete absence of temperature at 0°C.\n",
    "\n",
    "Ratio Level: \n",
    "  Data at this level have a specific order, intervals between values are uniform, and there is an absolute zero point. \n",
    "Examples include height, weight, and age. Ratios are meaningful at this level. \n",
    "For instance, if one person is 6 feet tall and another is 3 feet tall, you can\n",
    "say the first person is twice as tall as the second person.\n",
    "\n",
    "The level of measurement dictates what statistical analyses can be applied. \n",
    "For example:\n",
    "\n",
    "Meaningful Calculations: \n",
    "  You can calculate the mean (average) and perform meaningful addition and subtraction operations only on interval and ratio data. \n",
    "For instance, you can find the average income of a group of people (ratio data) but not the average ethnic group (nominal data).\n",
    "\n",
    "Median and Percentiles: \n",
    "   You can calculate the median (middle value) and percentiles (like the 25th or 75th percentile) for ordinal data, which provides insights into the data's central tendency.\n",
    "\n",
    "Mode: \n",
    "  You can calculate the mode (most frequently occurring value) for nominal data, which helps identify the most common category in a dataset.'''"
   ]
  },
  {
   "cell_type": "code",
   "execution_count": null,
   "id": "c26b94c7-2873-44ce-a669-b8973741eb75",
   "metadata": {},
   "outputs": [],
   "source": []
  },
  {
   "cell_type": "code",
   "execution_count": 2,
   "id": "c738715d-5c81-4808-83a2-7a86697f97af",
   "metadata": {},
   "outputs": [],
   "source": [
    "#Q7. How nominal data type is different from ordinal data type."
   ]
  },
  {
   "cell_type": "code",
   "execution_count": null,
   "id": "74d9d347-a042-4ed1-8f74-7f1bbba66e8b",
   "metadata": {},
   "outputs": [],
   "source": [
    "'''\n",
    "1.Nominal Data:\n",
    "  Nominal data represents categories or labels without any specific order or ranking among them. \n",
    "In nominal data, the categories have names or labels that represent different groups or characteristics,\n",
    "but these categories do not have any inherent order or sequence. \n",
    "For example, colors, gender, types of fruits, and country names are all examples of nominal data. \n",
    "You can't say that one category is higher or lower than another; they are simply different labels.\n",
    "\n",
    "2. Ordinal Data:\n",
    "   Ordinal data, on the other hand, represents categories with a specific order or ranking among them. \n",
    "In ordinal data, the categories have a meaningful sequence, but the intervals between the categories \n",
    "are not necessarily equal. This means you know which category is higher or lower than another, \n",
    "but you can't determine the exact difference between the categories.\n",
    "Common examples of ordinal data include customer satisfaction ratings (such as \"very dissatisfied,\" \"dissatisfied,\" \"neutral,\" \"satisfied,\" and \"very satisfied\"), \n",
    "education levels (such as \"high school,\" \"college,\" \"graduate,\" etc.), or socioeconomic status (like \"low income,\" \"middle income,\" and \"high income\").'''"
   ]
  },
  {
   "cell_type": "code",
   "execution_count": null,
   "id": "4804e3f7-e9ac-4813-9968-e355cb8c80a9",
   "metadata": {},
   "outputs": [],
   "source": []
  },
  {
   "cell_type": "code",
   "execution_count": 3,
   "id": "d6015105-1e1b-441c-ac43-f0685c1d56b5",
   "metadata": {},
   "outputs": [],
   "source": [
    "#Q8. Which type of plot can be used to display data in terms of range?"
   ]
  },
  {
   "cell_type": "code",
   "execution_count": null,
   "id": "21ea1a06-260f-4d9e-a756-5962173de5a5",
   "metadata": {},
   "outputs": [],
   "source": [
    "'''\n",
    "   To display data in terms of range, a box plot (also known as a box-and-whisker plot) is commonly used. \n",
    "A box plot provides a graphical summary of the minimum, first quartile (Q1), median (second quartile or Q2), third quartile (Q3), and maximum of a dataset. \n",
    "The box represents the interquartile range (IQR), which is the range between the first and third quartiles (Q1 and Q3), and the whiskers extend to the minimum and maximum values within a specified range, \n",
    "typically 1.5 times the IQR.'''"
   ]
  },
  {
   "cell_type": "code",
   "execution_count": null,
   "id": "70239c79-1ac2-4783-acf1-9bb73ed440d6",
   "metadata": {},
   "outputs": [],
   "source": []
  },
  {
   "cell_type": "code",
   "execution_count": 4,
   "id": "767ff70c-4fe1-4435-b525-7a8dd4857a4a",
   "metadata": {},
   "outputs": [],
   "source": [
    "#Q9. Describe the difference between descriptive and inferential statistics. Give an example of each type of statistics and explain how they are used."
   ]
  },
  {
   "cell_type": "code",
   "execution_count": null,
   "id": "8ad2aaf3-a29e-478e-9aa4-ab90473f37df",
   "metadata": {},
   "outputs": [],
   "source": [
    "'''\n",
    "1.Descriptive Statistics:\n",
    "   Descriptive statistics involve methods of organizing, summarizing, and presenting data in a convenient and informative way. \n",
    "These statistics provide a summary of the main aspects of the data, such as central tendency, variability, and distribution. \n",
    "Descriptive statistics do not involve making inferences about a population; instead, they focus on describing the sample \n",
    "or population that has been observed. Common measures of descriptive statistics include mean, median, mode, range, variance, and standard deviation.\n",
    "\n",
    "Example of Descriptive Statistics:\n",
    "  Consider a class of students' exam scores. Descriptive statistics for this dataset would include the mean (average) score, the median (middle value), and the standard deviation (measure of the spread) of the scores. \n",
    "These statistics provide a summary of how students performed in the exam within that specific class.\n",
    "\n",
    "2.Inferential Statistics:\n",
    "  Inferential statistics, on the other hand, involve making inferences or predictions about a population based on a sample of data taken from that population. \n",
    "These statistics are used to draw conclusions, make predictions, or test hypotheses about a larger group \n",
    "(population) based on the data collected from a subset of that group (sample). Inferential statistics use probability theory to make educated guesses about the population parameters. \n",
    "Common techniques in inferential statistics include hypothesis testing, regression analysis, and analysis of variance (ANOVA).\n",
    "\n",
    "Example of Inferential Statistics:\n",
    "    Let's say a researcher wants to know if a new teaching method improves students' exam scores across the entire school (population). Instead of testing every student in the school, the researcher selects a random sample of students, applies the new teaching method, and compares their scores to those of another random sample taught using the traditional method. \n",
    "Inferential statistics would be used to determine if the difference in exam scores between the two groups is statistically significant. \n",
    "If it is, the researcher can infer that the new teaching method is likely to have a significant effect on the exam scores of the entire student population.'''"
   ]
  },
  {
   "cell_type": "code",
   "execution_count": null,
   "id": "c6ade81b-2744-42dd-adbb-fecb6a375f6f",
   "metadata": {},
   "outputs": [],
   "source": []
  },
  {
   "cell_type": "code",
   "execution_count": null,
   "id": "ee310f0b-553b-4f3a-95d0-7f57ec6de846",
   "metadata": {},
   "outputs": [],
   "source": []
  }
 ],
 "metadata": {
  "kernelspec": {
   "display_name": "Python 3 (ipykernel)",
   "language": "python",
   "name": "python3"
  },
  "language_info": {
   "codemirror_mode": {
    "name": "ipython",
    "version": 3
   },
   "file_extension": ".py",
   "mimetype": "text/x-python",
   "name": "python",
   "nbconvert_exporter": "python",
   "pygments_lexer": "ipython3",
   "version": "3.10.8"
  }
 },
 "nbformat": 4,
 "nbformat_minor": 5
}
