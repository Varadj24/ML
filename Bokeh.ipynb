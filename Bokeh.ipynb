{
 "cells": [
  {
   "cell_type": "code",
   "execution_count": 1,
   "id": "4ac74142-03cd-42d7-8f92-65bab2d35fe7",
   "metadata": {},
   "outputs": [],
   "source": [
    "#1.Q1. How can you create a Bokeh plot using Python code?"
   ]
  },
  {
   "cell_type": "code",
   "execution_count": 2,
   "id": "8f270819-aa82-442b-a2cd-8ea6ab6a4704",
   "metadata": {},
   "outputs": [
    {
     "name": "stderr",
     "output_type": "stream",
     "text": [
      "WARNING:bokeh.core.validation.check:W-1000 (MISSING_RENDERERS): Plot has no renderers: figure(id='p1001', ...)\n"
     ]
    }
   ],
   "source": [
    "from bokeh.plotting import figure, show\n",
    "\n",
    "x = [1, 2, 3, 4, 5]\n",
    "y = [2, 4, 1, 5, 3]\n",
    "\n",
    "plot = figure(title=\"My Bokeh Plot\", x_axis_label=\"X-Axis Label\", y_axis_label=\"Y-Axis Label\")\n",
    "\n",
    "show(plot)\n"
   ]
  },
  {
   "cell_type": "code",
   "execution_count": 3,
   "id": "a6a0050d-6f9b-4646-92e8-5590b4ed9d70",
   "metadata": {},
   "outputs": [],
   "source": [
    "#Q2. What are glyphs in Bokeh, and how can you add them to a Bokeh plot? Explain with an example."
   ]
  },
  {
   "cell_type": "code",
   "execution_count": null,
   "id": "8f9dcd92-02e6-4f6e-8fba-b8e6c5db5363",
   "metadata": {},
   "outputs": [],
   "source": [
    "'''In Bokeh, glyphs are visual markers that can be added to a plot to represent data points. Glyphs can be simple shapes like circles, squares, or lines, or more complex shapes like patches or segments. \n",
    "These glyphs are fundamental building blocks for creating visualizations in Bokeh.'''"
   ]
  },
  {
   "cell_type": "code",
   "execution_count": 4,
   "id": "095a7e45-1d40-4581-87f7-ab5140c1de78",
   "metadata": {},
   "outputs": [],
   "source": [
    "from bokeh.plotting import figure, show\n",
    "\n",
    "# Data\n",
    "x = [1, 2, 3, 4, 5]\n",
    "y = [2, 4, 1, 5, 3]\n",
    "\n",
    "# Create a Bokeh figure\n",
    "plot = figure(title=\"Scatter Plot Example\", x_axis_label=\"X-axis\", y_axis_label=\"Y-axis\")\n",
    "\n",
    "# Add glyphs (circles) to the plot\n",
    "plot.circle(x, y, size=10, color=\"blue\")\n",
    "\n",
    "# Show the plot\n",
    "show(plot)\n"
   ]
  },
  {
   "cell_type": "code",
   "execution_count": null,
   "id": "c91c0351-b984-4805-b220-ebcf9bdeb2e8",
   "metadata": {},
   "outputs": [],
   "source": []
  },
  {
   "cell_type": "code",
   "execution_count": 5,
   "id": "6fa1cdd5-9f7c-48d7-8a13-9f73b133e804",
   "metadata": {},
   "outputs": [],
   "source": [
    "#Q3. How can you customize the appearance of a Bokeh plot, including the axes, title, and legend?"
   ]
  },
  {
   "cell_type": "code",
   "execution_count": null,
   "id": "02d0f0a3-5d61-446f-ac7f-87d1e8166e3e",
   "metadata": {},
   "outputs": [],
   "source": [
    "'''\n",
    "1.Title and Axis Labels:\n",
    "You can set the title and labels for the x and y axes using the title, x_axis_label, and y_axis_label attributes of the figure object, respectively.'''"
   ]
  },
  {
   "cell_type": "code",
   "execution_count": 6,
   "id": "d9ef5262-d842-41a9-8df9-6c6a8e451d48",
   "metadata": {},
   "outputs": [],
   "source": [
    "plot = figure(title=\"Customized Bokeh Plot\", x_axis_label=\"X-Axis Label\", y_axis_label=\"Y-Axis Label\")\n"
   ]
  },
  {
   "cell_type": "code",
   "execution_count": null,
   "id": "7276f201-120b-4dc7-ade5-5a17a5db1227",
   "metadata": {},
   "outputs": [],
   "source": [
    "'''\n",
    "2.Axes Properties:\n",
    "You can customize various properties of the axes, such as tick labels, tick locations, and axis line properties using the axis attribute.'''"
   ]
  },
  {
   "cell_type": "code",
   "execution_count": 7,
   "id": "119913ff-e4b3-4fde-b0f6-2eaf0b5d36f3",
   "metadata": {},
   "outputs": [],
   "source": [
    "\n",
    "plot.xaxis.major_label_text_color = \"orange\"\n",
    "plot.xaxis.major_label_orientation = \"vertical\"\n",
    "plot.xaxis.axis_line_width = 2\n"
   ]
  },
  {
   "cell_type": "code",
   "execution_count": null,
   "id": "1dab4a57-1184-4b15-981a-557a8bc86738",
   "metadata": {},
   "outputs": [],
   "source": [
    "'''\n",
    "3.Grid Lines:\n",
    "You can customize the appearance of grid lines using grid.grid_line_color, \n",
    "grid.grid_line_width, and similar attributes.'''"
   ]
  },
  {
   "cell_type": "code",
   "execution_count": 9,
   "id": "6bacd793-3c0e-4e06-ace1-1afbed87a17a",
   "metadata": {},
   "outputs": [],
   "source": [
    "plot.grid.grid_line_color = \"gray\"\n",
    "plot.grid.grid_line_dash = [5, 3] "
   ]
  },
  {
   "cell_type": "code",
   "execution_count": null,
   "id": "39732fba-a43a-4ab7-b43f-3d62089f441d",
   "metadata": {},
   "outputs": [],
   "source": [
    "'''\n",
    "4.Legend:\n",
    "To add a legend, you can specify the legend_label argument when adding glyphs, and then position and customize the legend using the legend attribute of the figure.'''"
   ]
  },
  {
   "cell_type": "code",
   "execution_count": 10,
   "id": "386ef66f-f63e-439d-b31b-f3a75e591b6c",
   "metadata": {},
   "outputs": [],
   "source": [
    "plot.circle(x, y, size=10, color=\"blue\", legend_label=\"Data Points\")\n",
    "plot.legend.location = \"top_left\"\n"
   ]
  },
  {
   "cell_type": "code",
   "execution_count": null,
   "id": "a4bea01a-401d-4da6-8790-8d381877f0f6",
   "metadata": {},
   "outputs": [],
   "source": [
    "'''\n",
    "5.Background and Border:\n",
    "You can customize the background color and border of the plot using the background_fill_color, border_fill_color, and related attributes.'''"
   ]
  },
  {
   "cell_type": "code",
   "execution_count": 11,
   "id": "24a3494b-cc56-4567-bbc9-a4be8ac2f9b3",
   "metadata": {},
   "outputs": [],
   "source": [
    "plot.background_fill_color = \"lightgray\"\n",
    "plot.border_fill_color = \"white\"\n"
   ]
  },
  {
   "cell_type": "code",
   "execution_count": null,
   "id": "3c6ebe30-60e1-4da4-af4b-7f42225b71ed",
   "metadata": {},
   "outputs": [],
   "source": [
    "'''\n",
    "6.Plot Dimensions:\n",
    "You can customize the width and height of the plot using the plot_width and plot_height attributes.'''"
   ]
  },
  {
   "cell_type": "code",
   "execution_count": null,
   "id": "dc6efa7c-2259-426c-8f1d-e31779b5304e",
   "metadata": {},
   "outputs": [],
   "source": [
    "#plot = figure(plot_width=800, plot_height=600)\n"
   ]
  },
  {
   "cell_type": "code",
   "execution_count": null,
   "id": "89e34ddf-e254-4394-a6a5-b0987129a613",
   "metadata": {},
   "outputs": [],
   "source": []
  },
  {
   "cell_type": "code",
   "execution_count": 13,
   "id": "8144013a-9373-4401-9479-d7643080f9e4",
   "metadata": {},
   "outputs": [],
   "source": [
    "#Q4. What is a Bokeh server, and how can you use it to create interactive plots that can be updated in real time?"
   ]
  },
  {
   "cell_type": "code",
   "execution_count": null,
   "id": "c7b589b7-7cb8-4dec-89af-5c62efa1cf44",
   "metadata": {},
   "outputs": [],
   "source": [
    "'''**Bokeh Server** is a Bokeh component that allows you to create interactive web applications with real-time updates. It enables the creation of dynamic, interactive plots that can respond to user inputs and events, providing a more responsive and engaging user experience. Bokeh Server facilitates the creation of data-rich, interactive dashboards, live streaming data visualizations, and more.\n",
    "\n",
    "With Bokeh Server, you can:\n",
    "\n",
    "1. **React to User Interactions:** Update plots based on user interactions such as button clicks, slider adjustments, or selections.\n",
    "\n",
    "2. **Integrate with External Data Sources:** Connect your Bokeh plots with live data streams or databases, enabling real-time updates as new data arrives.\n",
    "\n",
    "3. **Create Live Dashboards:** Develop dashboards that update in real-time, providing live insights into changing data.\n",
    "\n",
    "4. **Implement Custom Business Logic:** Implement custom Python callbacks that execute in response to user interactions or periodic updates, allowing for sophisticated interactions and computations.\n",
    "\n",
    "### How to Use Bokeh Server:\n",
    "\n",
    "#### 1. **Install Bokeh:**\n",
    "   If you haven't installed Bokeh, you can install it using pip:\n",
    "   ```\n",
    "   pip install bokeh\n",
    "   ```\n",
    "\n",
    "#### 2. **Create a Bokeh Server Application:**\n",
    "   Create a Python script (e.g., `app.py`) that defines your Bokeh Server application. Here's a basic example of a Bokeh Server application that updates a plot in real-time when a button is clicked:\n",
    "\n",
    "   ```python\n",
    "   from bokeh.plotting import figure, curdoc\n",
    "   from bokeh.models import Button\n",
    "   import numpy as np\n",
    "\n",
    "   # Create initial data\n",
    "   x = np.linspace(0, 2*np.pi, 100)\n",
    "   y = np.sin(x)\n",
    "\n",
    "   # Create Bokeh plot\n",
    "   plot = figure(title=\"Real-Time Sin Plot\", plot_height=300, plot_width=600)\n",
    "   line = plot.line(x, y)\n",
    "\n",
    "   # Create callback function\n",
    "   def update():\n",
    "       new_y = np.sin(x + np.random.random())  # Simulated new data\n",
    "       line.data_source.data['y'] = new_y\n",
    "\n",
    "   # Create button and add callback\n",
    "   button = Button(label=\"Update Plot\")\n",
    "   button.on_click(update)\n",
    "\n",
    "   # Add plot and button to the document\n",
    "   curdoc().add_root(plot)\n",
    "   curdoc().add_root(button)\n",
    "   ```\n",
    "\n",
    "#### 3. **Run the Bokeh Server Application:**\n",
    "   To run the Bokeh Server application, use the following command in your terminal or command prompt:\n",
    "\n",
    "   ```\n",
    "   bokeh serve --show app.py\n",
    "   ```'''"
   ]
  },
  {
   "cell_type": "code",
   "execution_count": null,
   "id": "01d6a442-1068-4835-8517-cc8f01880b05",
   "metadata": {},
   "outputs": [],
   "source": []
  },
  {
   "cell_type": "code",
   "execution_count": 14,
   "id": "91dd78c8-6168-40f9-8c83-a1bf8a98c18c",
   "metadata": {},
   "outputs": [],
   "source": [
    "#Q5. How can you embed a Bokeh plot into a web page or dashboard using Flask or Django?\n"
   ]
  },
  {
   "cell_type": "code",
   "execution_count": null,
   "id": "de51a2fc-d6a7-4efc-8b28-f7a20cae10b2",
   "metadata": {},
   "outputs": [],
   "source": [
    "'''\n"
   ]
  }
 ],
 "metadata": {
  "kernelspec": {
   "display_name": "Python 3 (ipykernel)",
   "language": "python",
   "name": "python3"
  },
  "language_info": {
   "codemirror_mode": {
    "name": "ipython",
    "version": 3
   },
   "file_extension": ".py",
   "mimetype": "text/x-python",
   "name": "python",
   "nbconvert_exporter": "python",
   "pygments_lexer": "ipython3",
   "version": "3.10.8"
  }
 },
 "nbformat": 4,
 "nbformat_minor": 5
}
